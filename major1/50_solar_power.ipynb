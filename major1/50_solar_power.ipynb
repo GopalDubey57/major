{
 "cells": [
  {
   "cell_type": "code",
   "execution_count": 1,
   "metadata": {
    "_uuid": "e826cfc7d3e9a1ecf31964c1ed8a54b50d173887",
    "id": "-ksiWubFceCw"
   },
   "outputs": [],
   "source": [
    "import numpy as np\n",
    "import pandas as pd\n",
    "import seaborn as sb\n",
    "import matplotlib.pyplot as plt\n",
    "import category_encoders as ce\n",
    "from sklearn import preprocessing\n",
    "from sklearn.model_selection import train_test_split\n",
    "from sklearn.decomposition import PCA\n",
    "from sklearn.ensemble import RandomForestRegressor  \n",
    "from sklearn.svm import SVR\n",
    "from sklearn import metrics\n",
    "from sklearn.metrics import accuracy_score\n",
    "\n",
    "\n",
    "\n",
    "\n",
    "%matplotlib inline"
   ]
  },
  {
   "cell_type": "code",
   "execution_count": 2,
   "metadata": {
    "colab": {
     "base_uri": "https://localhost:8080/"
    },
    "id": "51KuSXwHCNNw",
    "outputId": "bd37e094-7a68-40ba-e9d3-e45fd2134686"
   },
   "outputs": [
    {
     "name": "stdout",
     "output_type": "stream",
     "text": [
      "Requirement already satisfied: category_encoders in c:\\users\\gopal\\anaconda3\\lib\\site-packages (2.6.0)\n",
      "Requirement already satisfied: numpy>=1.14.0 in c:\\users\\gopal\\anaconda3\\lib\\site-packages (from category_encoders) (1.20.3)\n",
      "Requirement already satisfied: patsy>=0.5.1 in c:\\users\\gopal\\anaconda3\\lib\\site-packages (from category_encoders) (0.5.2)\n",
      "Requirement already satisfied: scikit-learn>=0.20.0 in c:\\users\\gopal\\anaconda3\\lib\\site-packages (from category_encoders) (0.24.2)\n",
      "Requirement already satisfied: scipy>=1.0.0 in c:\\users\\gopal\\anaconda3\\lib\\site-packages (from category_encoders) (1.7.1)\n",
      "Requirement already satisfied: pandas>=1.0.5 in c:\\users\\gopal\\anaconda3\\lib\\site-packages (from category_encoders) (1.3.4)\n",
      "Requirement already satisfied: statsmodels>=0.9.0 in c:\\users\\gopal\\anaconda3\\lib\\site-packages (from category_encoders) (0.12.2)\n",
      "Requirement already satisfied: pytz>=2017.3 in c:\\users\\gopal\\anaconda3\\lib\\site-packages (from pandas>=1.0.5->category_encoders) (2021.3)\n",
      "Requirement already satisfied: python-dateutil>=2.7.3 in c:\\users\\gopal\\anaconda3\\lib\\site-packages (from pandas>=1.0.5->category_encoders) (2.8.2)\n",
      "Requirement already satisfied: six in c:\\users\\gopal\\anaconda3\\lib\\site-packages (from patsy>=0.5.1->category_encoders) (1.16.0)\n",
      "Requirement already satisfied: threadpoolctl>=2.0.0 in c:\\users\\gopal\\anaconda3\\lib\\site-packages (from scikit-learn>=0.20.0->category_encoders) (2.2.0)\n",
      "Requirement already satisfied: joblib>=0.11 in c:\\users\\gopal\\anaconda3\\lib\\site-packages (from scikit-learn>=0.20.0->category_encoders) (1.1.0)\n"
     ]
    }
   ],
   "source": [
    "!pip install category_encoders"
   ]
  },
  {
   "cell_type": "code",
   "execution_count": 3,
   "metadata": {
    "_uuid": "19c8ec2bbc5d4988c68328013e5157db7201c403",
    "colab": {
     "base_uri": "https://localhost:8080/",
     "height": 206
    },
    "id": "wg3i4W46ceCy",
    "outputId": "e3d748c8-b84c-4a96-db00-c4fa0e367000"
   },
   "outputs": [
    {
     "data": {
      "text/html": [
       "<div>\n",
       "<style scoped>\n",
       "    .dataframe tbody tr th:only-of-type {\n",
       "        vertical-align: middle;\n",
       "    }\n",
       "\n",
       "    .dataframe tbody tr th {\n",
       "        vertical-align: top;\n",
       "    }\n",
       "\n",
       "    .dataframe thead th {\n",
       "        text-align: right;\n",
       "    }\n",
       "</style>\n",
       "<table border=\"1\" class=\"dataframe\">\n",
       "  <thead>\n",
       "    <tr style=\"text-align: right;\">\n",
       "      <th></th>\n",
       "      <th>Temperature</th>\n",
       "      <th>Humidity</th>\n",
       "      <th>Voltage</th>\n",
       "      <th>Current</th>\n",
       "      <th>Power</th>\n",
       "    </tr>\n",
       "  </thead>\n",
       "  <tbody>\n",
       "    <tr>\n",
       "      <th>0</th>\n",
       "      <td>35.013286</td>\n",
       "      <td>1.620603</td>\n",
       "      <td>119.055519</td>\n",
       "      <td>3.030663</td>\n",
       "      <td>360.817191</td>\n",
       "    </tr>\n",
       "    <tr>\n",
       "      <th>1</th>\n",
       "      <td>25.908730</td>\n",
       "      <td>57.847918</td>\n",
       "      <td>48.723414</td>\n",
       "      <td>4.386690</td>\n",
       "      <td>213.734504</td>\n",
       "    </tr>\n",
       "    <tr>\n",
       "      <th>2</th>\n",
       "      <td>10.460330</td>\n",
       "      <td>64.609784</td>\n",
       "      <td>118.066455</td>\n",
       "      <td>2.184007</td>\n",
       "      <td>257.857940</td>\n",
       "    </tr>\n",
       "    <tr>\n",
       "      <th>3</th>\n",
       "      <td>19.179683</td>\n",
       "      <td>36.108564</td>\n",
       "      <td>28.903095</td>\n",
       "      <td>1.955580</td>\n",
       "      <td>56.522317</td>\n",
       "    </tr>\n",
       "    <tr>\n",
       "      <th>4</th>\n",
       "      <td>35.234379</td>\n",
       "      <td>14.920370</td>\n",
       "      <td>106.262071</td>\n",
       "      <td>2.360396</td>\n",
       "      <td>250.820597</td>\n",
       "    </tr>\n",
       "  </tbody>\n",
       "</table>\n",
       "</div>"
      ],
      "text/plain": [
       "   Temperature   Humidity     Voltage   Current       Power\n",
       "0    35.013286   1.620603  119.055519  3.030663  360.817191\n",
       "1    25.908730  57.847918   48.723414  4.386690  213.734504\n",
       "2    10.460330  64.609784  118.066455  2.184007  257.857940\n",
       "3    19.179683  36.108564   28.903095  1.955580   56.522317\n",
       "4    35.234379  14.920370  106.262071  2.360396  250.820597"
      ]
     },
     "execution_count": 3,
     "metadata": {},
     "output_type": "execute_result"
    }
   ],
   "source": [
    "data = pd.read_csv(r\"C:\\Users\\gopal\\Documents\\major1\\old_powerconsumption_New_data.csv\")\n",
    "data.head()"
   ]
  },
  {
   "cell_type": "code",
   "execution_count": 4,
   "metadata": {
    "_uuid": "9b9bb208a03a9fbf49c0e95ba79fa4584a30a930",
    "colab": {
     "base_uri": "https://localhost:8080/"
    },
    "id": "t8c4KWyZceCy",
    "outputId": "3ff9fd67-f132-4eb0-e0de-d741454ceed5"
   },
   "outputs": [
    {
     "name": "stdout",
     "output_type": "stream",
     "text": [
      "<class 'pandas.core.frame.DataFrame'>\n",
      "RangeIndex: 6430 entries, 0 to 6429\n",
      "Data columns (total 5 columns):\n",
      " #   Column       Non-Null Count  Dtype  \n",
      "---  ------       --------------  -----  \n",
      " 0   Temperature  6430 non-null   float64\n",
      " 1   Humidity     6430 non-null   float64\n",
      " 2   Voltage      6430 non-null   float64\n",
      " 3   Current      6430 non-null   float64\n",
      " 4   Power        6430 non-null   float64\n",
      "dtypes: float64(5)\n",
      "memory usage: 251.3 KB\n",
      "None\n"
     ]
    }
   ],
   "source": [
    " print(data.info())"
   ]
  },
  {
   "cell_type": "code",
   "execution_count": 5,
   "metadata": {
    "colab": {
     "base_uri": "https://localhost:8080/",
     "height": 189
    },
    "id": "ck2yKLRIiflr",
    "outputId": "e7b70be3-8110-4383-a67c-05b6a1cff60d"
   },
   "outputs": [
    {
     "data": {
      "text/html": [
       "<div>\n",
       "<style scoped>\n",
       "    .dataframe tbody tr th:only-of-type {\n",
       "        vertical-align: middle;\n",
       "    }\n",
       "\n",
       "    .dataframe tbody tr th {\n",
       "        vertical-align: top;\n",
       "    }\n",
       "\n",
       "    .dataframe thead th {\n",
       "        text-align: right;\n",
       "    }\n",
       "</style>\n",
       "<table border=\"1\" class=\"dataframe\">\n",
       "  <thead>\n",
       "    <tr style=\"text-align: right;\">\n",
       "      <th></th>\n",
       "    </tr>\n",
       "  </thead>\n",
       "  <tbody>\n",
       "    <tr>\n",
       "      <th>0</th>\n",
       "    </tr>\n",
       "    <tr>\n",
       "      <th>1</th>\n",
       "    </tr>\n",
       "    <tr>\n",
       "      <th>2</th>\n",
       "    </tr>\n",
       "    <tr>\n",
       "      <th>3</th>\n",
       "    </tr>\n",
       "    <tr>\n",
       "      <th>4</th>\n",
       "    </tr>\n",
       "  </tbody>\n",
       "</table>\n",
       "</div>"
      ],
      "text/plain": [
       "Empty DataFrame\n",
       "Columns: []\n",
       "Index: [0, 1, 2, 3, 4]"
      ]
     },
     "execution_count": 5,
     "metadata": {},
     "output_type": "execute_result"
    }
   ],
   "source": [
    "data.select_dtypes(include=['object']).head()"
   ]
  },
  {
   "cell_type": "code",
   "execution_count": 6,
   "metadata": {
    "_uuid": "3d1555d0b906d5225548371bc5fa208c3633505e",
    "colab": {
     "base_uri": "https://localhost:8080/",
     "height": 189
    },
    "id": "korD0V2iceC0",
    "outputId": "4b1dfa26-f11e-46ef-cb29-d2db846e7797"
   },
   "outputs": [
    {
     "data": {
      "text/html": [
       "<div>\n",
       "<style scoped>\n",
       "    .dataframe tbody tr th:only-of-type {\n",
       "        vertical-align: middle;\n",
       "    }\n",
       "\n",
       "    .dataframe tbody tr th {\n",
       "        vertical-align: top;\n",
       "    }\n",
       "\n",
       "    .dataframe thead th {\n",
       "        text-align: right;\n",
       "    }\n",
       "</style>\n",
       "<table border=\"1\" class=\"dataframe\">\n",
       "  <thead>\n",
       "    <tr style=\"text-align: right;\">\n",
       "      <th></th>\n",
       "    </tr>\n",
       "  </thead>\n",
       "  <tbody>\n",
       "    <tr>\n",
       "      <th>0</th>\n",
       "    </tr>\n",
       "    <tr>\n",
       "      <th>1</th>\n",
       "    </tr>\n",
       "    <tr>\n",
       "      <th>2</th>\n",
       "    </tr>\n",
       "    <tr>\n",
       "      <th>3</th>\n",
       "    </tr>\n",
       "    <tr>\n",
       "      <th>4</th>\n",
       "    </tr>\n",
       "  </tbody>\n",
       "</table>\n",
       "</div>"
      ],
      "text/plain": [
       "Empty DataFrame\n",
       "Columns: []\n",
       "Index: [0, 1, 2, 3, 4]"
      ]
     },
     "execution_count": 6,
     "metadata": {},
     "output_type": "execute_result"
    }
   ],
   "source": [
    "# prices = all features except those with object type value\n",
    "# prices_objects = all features with object type value\n",
    "data_objects = data.select_dtypes(include=['object']).copy()\n",
    "datas = data.select_dtypes(exclude=['object']).copy()\n",
    "data_objects.head()"
   ]
  },
  {
   "cell_type": "code",
   "execution_count": 7,
   "metadata": {
    "_uuid": "0e1f70597ddbe3db51c7d44331e5e1f435bcfa6d",
    "colab": {
     "base_uri": "https://localhost:8080/"
    },
    "id": "Y2Ru17RRceC1",
    "outputId": "d067a5b8-bdea-45d9-c016-10714675f9d1"
   },
   "outputs": [
    {
     "data": {
      "text/plain": [
       "Temperature    0\n",
       "Humidity       0\n",
       "Voltage        0\n",
       "Current        0\n",
       "dtype: int64"
      ]
     },
     "execution_count": 7,
     "metadata": {},
     "output_type": "execute_result"
    }
   ],
   "source": [
    "datas = datas.drop(['Power'],axis=1)\n",
    "datas.isnull().sum()"
   ]
  },
  {
   "cell_type": "code",
   "execution_count": 12,
   "metadata": {
    "_uuid": "443c92c78ae1e7d220e4c6cf1d09626772eca117",
    "id": "ZXKc1h01ceC1"
   },
   "outputs": [
    {
     "data": {
      "text/html": [
       "<div>\n",
       "<style scoped>\n",
       "    .dataframe tbody tr th:only-of-type {\n",
       "        vertical-align: middle;\n",
       "    }\n",
       "\n",
       "    .dataframe tbody tr th {\n",
       "        vertical-align: top;\n",
       "    }\n",
       "\n",
       "    .dataframe thead th {\n",
       "        text-align: right;\n",
       "    }\n",
       "</style>\n",
       "<table border=\"1\" class=\"dataframe\">\n",
       "  <thead>\n",
       "    <tr style=\"text-align: right;\">\n",
       "      <th></th>\n",
       "      <th>Temperature</th>\n",
       "      <th>Humidity</th>\n",
       "    </tr>\n",
       "  </thead>\n",
       "  <tbody>\n",
       "    <tr>\n",
       "      <th>0</th>\n",
       "      <td>35.013286</td>\n",
       "      <td>1.620603</td>\n",
       "    </tr>\n",
       "    <tr>\n",
       "      <th>1</th>\n",
       "      <td>25.908730</td>\n",
       "      <td>57.847918</td>\n",
       "    </tr>\n",
       "    <tr>\n",
       "      <th>2</th>\n",
       "      <td>10.460330</td>\n",
       "      <td>64.609784</td>\n",
       "    </tr>\n",
       "    <tr>\n",
       "      <th>3</th>\n",
       "      <td>19.179683</td>\n",
       "      <td>36.108564</td>\n",
       "    </tr>\n",
       "    <tr>\n",
       "      <th>4</th>\n",
       "      <td>35.234379</td>\n",
       "      <td>14.920370</td>\n",
       "    </tr>\n",
       "    <tr>\n",
       "      <th>...</th>\n",
       "      <td>...</td>\n",
       "      <td>...</td>\n",
       "    </tr>\n",
       "    <tr>\n",
       "      <th>6425</th>\n",
       "      <td>45.063457</td>\n",
       "      <td>11.782585</td>\n",
       "    </tr>\n",
       "    <tr>\n",
       "      <th>6426</th>\n",
       "      <td>25.460191</td>\n",
       "      <td>56.616609</td>\n",
       "    </tr>\n",
       "    <tr>\n",
       "      <th>6427</th>\n",
       "      <td>3.278908</td>\n",
       "      <td>22.049223</td>\n",
       "    </tr>\n",
       "    <tr>\n",
       "      <th>6428</th>\n",
       "      <td>5.643323</td>\n",
       "      <td>18.213687</td>\n",
       "    </tr>\n",
       "    <tr>\n",
       "      <th>6429</th>\n",
       "      <td>18.304648</td>\n",
       "      <td>56.437210</td>\n",
       "    </tr>\n",
       "  </tbody>\n",
       "</table>\n",
       "<p>6430 rows × 2 columns</p>\n",
       "</div>"
      ],
      "text/plain": [
       "      Temperature   Humidity\n",
       "0       35.013286   1.620603\n",
       "1       25.908730  57.847918\n",
       "2       10.460330  64.609784\n",
       "3       19.179683  36.108564\n",
       "4       35.234379  14.920370\n",
       "...           ...        ...\n",
       "6425    45.063457  11.782585\n",
       "6426    25.460191  56.616609\n",
       "6427     3.278908  22.049223\n",
       "6428     5.643323  18.213687\n",
       "6429    18.304648  56.437210\n",
       "\n",
       "[6430 rows x 2 columns]"
      ]
     },
     "execution_count": 12,
     "metadata": {},
     "output_type": "execute_result"
    }
   ],
   "source": [
    "#drop the data in similar data\n",
    "X=datas.drop(['Voltage','Current'],axis=1)\n",
    "\n",
    "\n",
    "\n",
    "#drop Particular (Temperature and Humidity) column\n",
    "u=datas['Temperature']\n",
    "v=datas['Humidity']\n",
    "X"
   ]
  },
  {
   "cell_type": "markdown",
   "metadata": {
    "_uuid": "a8be783e4861661df45d68063e4921ac894364fa",
    "id": "nfDWxb_5ceDH"
   },
   "source": [
    "##  Support Vector Machine for Polynomial Regression"
   ]
  },
  {
   "cell_type": "code",
   "execution_count": 9,
   "metadata": {
    "_uuid": "f216fdded9eae50fe69cd2d3b3369537950e6665",
    "id": "XAfxxudrceDH"
   },
   "outputs": [],
   "source": [
    "#data will be train the Radial basis function (RBF) kernel: and Polynomial kernel and Sigmoid kernel: \n",
    "clf1 = SVR(kernel='rbf',degree=3, C=1.0, epsilon=0.1)\n",
    "clf2 = SVR(kernel='poly',degree=3, C=1.0, epsilon=0.1)\n"
   ]
  },
  {
   "cell_type": "code",
   "execution_count": 10,
   "metadata": {
    "_uuid": "4b0dcaf4766f620f57945b4bb6dc074c2ac1d1a2",
    "colab": {
     "base_uri": "https://localhost:8080/"
    },
    "id": "7uK-pXnPceDH",
    "outputId": "51fc52a4-d73f-40cb-a736-1846e67bbac9"
   },
   "outputs": [
    {
     "data": {
      "text/plain": [
       "SVR(kernel='poly')"
      ]
     },
     "execution_count": 10,
     "metadata": {},
     "output_type": "execute_result"
    }
   ],
   "source": [
    "#data fit 'Temperature','Humidity','Voltage','Current'  vs  Latitude\n",
    "clf1.fit(X, u)\n",
    "\n",
    "\n",
    " #data fit 'Temperature','Humidity','Voltage','Current'  vs  Longitude\n",
    "clf2.fit(X,v)\n",
    "\n"
   ]
  },
  {
   "cell_type": "code",
   "execution_count": 11,
   "metadata": {
    "colab": {
     "base_uri": "https://localhost:8080/"
    },
    "id": "u_8cPaYLjX-D",
    "outputId": "b59bce34-ed0c-40a3-cae8-103620040a0c"
   },
   "outputs": [
    {
     "name": "stdout",
     "output_type": "stream",
     "text": [
      "Enter the Temperature: 35.0132\n",
      "Enter the Humidity: 1.620\n",
      "Voltage: [33.9276078]\n",
      "current: [15.94580079]\n",
      "Power: [541.00287507]\n"
     ]
    }
   ],
   "source": [
    "pow=0\n",
    "\n",
    "while(pow!=1):\n",
    "  #Input data\n",
    "  lati=input(\"Enter the Temperature: \")\n",
    "  longi=input(\"Enter the Humidity: \")\n",
    "\n",
    "  #testing the New data \n",
    "  test=np.array([lati,longi])\n",
    "  data = pd.DataFrame(test.reshape(-1,len(test)),columns=('Temperature','Humidity'))\n",
    "\n",
    "  #predict the data using clf1\n",
    "  volt= clf1.predict(data)\n",
    "\n",
    "  #predict the data using clf2\n",
    "  curr= clf2.predict(data)\n",
    "\n",
    "\n",
    "\n",
    "\n",
    "  #display the Voltage and current\n",
    "  print(\"Voltage:\",volt)\n",
    "  print(\"current:\",curr)\n",
    "\n",
    "\n",
    "\n",
    "  #the power will be display on the given voltage and current values\n",
    "  power=volt*curr\n",
    "  if power<=1000:\n",
    "    print(\"Power:\",power)\n",
    "    pow=1\n",
    "  else:\n",
    "    pow=0\n",
    "\n",
    "\n",
    "  "
   ]
  },
  {
   "cell_type": "code",
   "execution_count": null,
   "metadata": {
    "id": "ovKy-F-TmhcP"
   },
   "outputs": [],
   "source": []
  }
 ],
 "metadata": {
  "colab": {
   "provenance": []
  },
  "kernelspec": {
   "display_name": "Python 3 (ipykernel)",
   "language": "python",
   "name": "python3"
  },
  "language_info": {
   "codemirror_mode": {
    "name": "ipython",
    "version": 3
   },
   "file_extension": ".py",
   "mimetype": "text/x-python",
   "name": "python",
   "nbconvert_exporter": "python",
   "pygments_lexer": "ipython3",
   "version": "3.9.7"
  }
 },
 "nbformat": 4,
 "nbformat_minor": 1
}
